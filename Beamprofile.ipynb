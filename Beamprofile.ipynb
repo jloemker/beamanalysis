{
 "cells": [
  {
   "cell_type": "code",
   "execution_count": 28,
   "metadata": {},
   "outputs": [
    {
     "name": "stdout",
     "output_type": "stream",
     "text": [
      "(-1.9382287305593504, 7.042780973753015)\n",
      "0.25677127471362754 0.46205162765845714\n"
     ]
    },
    {
     "data": {
      "image/png": "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\n",
      "text/plain": [
       "<Figure size 432x288 with 2 Axes>"
      ]
     },
     "metadata": {
      "needs_background": "light"
     },
     "output_type": "display_data"
    }
   ],
   "source": [
    "\n",
    "import numpy as np\n",
    "import scipy.io as sc\n",
    "import math\n",
    "import matplotlib.pyplot as plt\n",
    "\n",
    "def normData(data):\n",
    "    maxVal = np.max(data)\n",
    "    return [i/maxVal for i in data]\n",
    "\n",
    "\n",
    "\n",
    "def transformation(posX, posY):\n",
    "    pX = 0.02841\n",
    "    pY = 0.02841\n",
    "    posMMX = -14.66 + posX * pX\n",
    "    posMMY = -11.02 + posY * pY  # change the initial value\n",
    "    return posMMX,posMMY\n",
    "\n",
    "def mean (weight):\n",
    "    sum = 0\n",
    "    sumWeight = 0\n",
    "    i = 0\n",
    "    while i < len(weight):\n",
    "        sum = sum + i*weight[i]\n",
    "        sumWeight = sumWeight + weight[i]\n",
    "        i = i + 1\n",
    "    return sum/sumWeight\n",
    "\n",
    "\n",
    "def normMean (pixels):\n",
    "    return sum(pixels)/len(pixels)\n",
    "\n",
    "#TODO: check how to calculate sigma\n",
    "def sigma (normmean, weights):\n",
    "    summ = 0\n",
    "    for i in range(0, len(weights),1):\n",
    "        if weights[i] == 0:\n",
    "            continue\n",
    "        summ = summ + weights[i] * (i - normmean)*(i - normmean)\n",
    "\n",
    "    return math.sqrt(summ/np.sum(weights))\n",
    "\n",
    "mat = sc.loadmat(\"C:/Users")\n",
    "matrix = mat.get(\"profiledata\")\n",
    "cleanedmatrix = matrix[:]\n",
    "cleanedmatrix[cleanedmatrix < np.max(cleanedmatrix) * 0.3] = 0\n",
    "weightsX = normData(np.sum(matrix, 0))\n",
    "weightsY = normData(np.sum(matrix, 1))\n",
    "dataX = np.linspace(0, len(weightsX), len(weightsX))\n",
    "dataY = np.linspace(0, len(weightsY), len(weightsY))\n",
    "\n",
    "cleanedweightsX = normData(np.sum(cleanedmatrix, 0))\n",
    "cleanedweightsY = normData(np.sum(cleanedmatrix,1))\n",
    "\n",
    "\n",
    "positionX = mean(cleanedweightsX)\n",
    "positionY = mean(cleanedweightsY)\n",
    "print(transformation(positionX, positionY))\n",
    "sigmaX = 0.02841 * sigma(positionX, cleanedweightsX)\n",
    "sigmaY = 0.02841 * sigma(positionY, cleanedweightsY)\n",
    "print (sigmaX, sigmaY)\n",
    "\n",
    "\n",
    "fig = plt.figure()\n",
    "plt.imshow(cleanedmatrix)\n",
    "plt.colorbar()\n",
    "plt.xlabel(\"Horizontal Number of Pixel\")\n",
    "plt.ylabel(\"Vertical Number of Pixel\")\n",
    "#plt.show()\n",
    "plt.savefig('C:/Users/')"
   ]
  },
  {
   "cell_type": "code",
   "execution_count": null,
   "metadata": {},
   "outputs": [],
   "source": []
  }
 ],
 "metadata": {
  "kernelspec": {
   "display_name": "Python 3",
   "language": "python",
   "name": "python3"
  },
  "language_info": {
   "codemirror_mode": {
    "name": "ipython",
    "version": 3
   },
   "file_extension": ".py",
   "mimetype": "text/x-python",
   "name": "python",
   "nbconvert_exporter": "python",
   "pygments_lexer": "ipython3",
   "version": "3.7.1"
  }
 },
 "nbformat": 4,
 "nbformat_minor": 2
}
